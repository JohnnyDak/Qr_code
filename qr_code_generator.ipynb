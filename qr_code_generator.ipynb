{
 "cells": [
  {
   "cell_type": "code",
   "execution_count": 3,
   "id": "89d39aa9-d8a6-4b5f-bdae-017cca8509a9",
   "metadata": {},
   "outputs": [
    {
     "name": "stdout",
     "output_type": "stream",
     "text": [
      "QR code compact généré (qr_inscription_compact.png)\n",
      "Dimensions: 246x246 pixels\n",
      "Redirection vers: https://lien_vers_la_page_inscription\n"
     ]
    },
    {
     "data": {
      "image/png": "[encoded data removed]",
      "text/plain": [
       "<IPython.core.display.Image object>"
      ]
     },
     "metadata": {
      "image/png": {
       "width": 200
      }
     },
     "output_type": "display_data"
    }
   ],
   "source": [
    "from IPython.display import display, Image\n",
    "import qrcode\n",
    "import os\n",
    "\n",
    "# Configuration optimisée pour taille réduite et scan mobile\n",
    "url = \"https://lien_vers_la_page_inscription\"  # REMPLACEZ PAR VOTRE URL\n",
    "filename = \"qr_inscription_compact.png\"\n",
    "\n",
    "# Paramètres optimisés pour taille compacte\n",
    "qr = qrcode.QRCode(\n",
    "    version=1,\n",
    "    error_correction=qrcode.constants.ERROR_CORRECT_H,  # Correction haute pour fiabilité\n",
    "    box_size=6,  # Taille réduite des modules (6px au lieu de 12)\n",
    "    border=2,    # Bordure minimale mais suffisante\n",
    ")\n",
    "\n",
    "qr.add_data(url)\n",
    "qr.make(fit=True)\n",
    "\n",
    "# Création du QR code noir pur\n",
    "img = qr.make_image(fill_color=\"black\", back_color=\"white\")\n",
    "img.save(filename)\n",
    "\n",
    "# Affichage avec taille contrôlée\n",
    "print(f\"QR code compact généré ({filename})\")\n",
    "print(f\"Dimensions: {img.size[0]}x{img.size[1]} pixels\")\n",
    "print(f\"Redirection vers: {url}\")\n",
    "\n",
    "# Affichage dans le notebook avec taille contrôlée\n",
    "display(Image(filename=filename, width=200))  # Prévisualisation 200px"
   ]
  }
 ],
 "metadata": {
  "kernelspec": {
   "display_name": "Python [conda env:base] *",
   "language": "python",
   "name": "conda-base-py"
  },
  "language_info": {
   "codemirror_mode": {
    "name": "ipython",
    "version": 3
   },
   "file_extension": ".py",
   "mimetype": "text/x-python",
   "name": "python",
   "nbconvert_exporter": "python",
   "pygments_lexer": "ipython3",
   "version": "3.12.7"
  }
 },
 "nbformat": 4,
 "nbformat_minor": 5
}
